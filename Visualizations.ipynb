{
 "cells": [
  {
   "cell_type": "code",
   "execution_count": 1,
   "metadata": {},
   "outputs": [],
   "source": [
    "import numpy as np\n",
    "import pandas as pd\n",
    "import matplotlib.pyplot as plt\n",
    "import math\n",
    "import datetime\n",
    "import seaborn as sns\n",
    "%matplotlib inline"
   ]
  },
  {
   "cell_type": "markdown",
   "metadata": {},
   "source": [
    "# The Data"
   ]
  },
  {
   "cell_type": "markdown",
   "metadata": {},
   "source": [
    "I have chosen to use the NFL data for this project. I believe I can make many visualizations both between overall trends in the NFL and on specific team trends. "
   ]
  },
  {
   "cell_type": "code",
   "execution_count": 2,
   "metadata": {
    "scrolled": true
   },
   "outputs": [
    {
     "data": {
      "text/html": [
       "<div>\n",
       "<style scoped>\n",
       "    .dataframe tbody tr th:only-of-type {\n",
       "        vertical-align: middle;\n",
       "    }\n",
       "\n",
       "    .dataframe tbody tr th {\n",
       "        vertical-align: top;\n",
       "    }\n",
       "\n",
       "    .dataframe thead th {\n",
       "        text-align: right;\n",
       "    }\n",
       "</style>\n",
       "<table border=\"1\" class=\"dataframe\">\n",
       "  <thead>\n",
       "    <tr style=\"text-align: right;\">\n",
       "      <th></th>\n",
       "      <th>date</th>\n",
       "      <th>season</th>\n",
       "      <th>neutral</th>\n",
       "      <th>playoff</th>\n",
       "      <th>team1</th>\n",
       "      <th>team2</th>\n",
       "      <th>elo1</th>\n",
       "      <th>elo2</th>\n",
       "      <th>elo_prob1</th>\n",
       "      <th>score1</th>\n",
       "      <th>score2</th>\n",
       "      <th>result1</th>\n",
       "    </tr>\n",
       "  </thead>\n",
       "  <tbody>\n",
       "    <tr>\n",
       "      <th>0</th>\n",
       "      <td>1920-09-26</td>\n",
       "      <td>1920</td>\n",
       "      <td>0</td>\n",
       "      <td>0</td>\n",
       "      <td>RII</td>\n",
       "      <td>STP</td>\n",
       "      <td>1503.947</td>\n",
       "      <td>1300.000</td>\n",
       "      <td>0.824651</td>\n",
       "      <td>48</td>\n",
       "      <td>0</td>\n",
       "      <td>1.0</td>\n",
       "    </tr>\n",
       "    <tr>\n",
       "      <th>1</th>\n",
       "      <td>1920-10-03</td>\n",
       "      <td>1920</td>\n",
       "      <td>0</td>\n",
       "      <td>0</td>\n",
       "      <td>AKR</td>\n",
       "      <td>WHE</td>\n",
       "      <td>1503.420</td>\n",
       "      <td>1300.000</td>\n",
       "      <td>0.824212</td>\n",
       "      <td>43</td>\n",
       "      <td>0</td>\n",
       "      <td>1.0</td>\n",
       "    </tr>\n",
       "    <tr>\n",
       "      <th>2</th>\n",
       "      <td>1920-10-03</td>\n",
       "      <td>1920</td>\n",
       "      <td>0</td>\n",
       "      <td>0</td>\n",
       "      <td>RCH</td>\n",
       "      <td>ABU</td>\n",
       "      <td>1503.420</td>\n",
       "      <td>1300.000</td>\n",
       "      <td>0.824212</td>\n",
       "      <td>10</td>\n",
       "      <td>0</td>\n",
       "      <td>1.0</td>\n",
       "    </tr>\n",
       "    <tr>\n",
       "      <th>3</th>\n",
       "      <td>1920-10-03</td>\n",
       "      <td>1920</td>\n",
       "      <td>0</td>\n",
       "      <td>0</td>\n",
       "      <td>DAY</td>\n",
       "      <td>COL</td>\n",
       "      <td>1493.002</td>\n",
       "      <td>1504.908</td>\n",
       "      <td>0.575819</td>\n",
       "      <td>14</td>\n",
       "      <td>0</td>\n",
       "      <td>1.0</td>\n",
       "    </tr>\n",
       "    <tr>\n",
       "      <th>4</th>\n",
       "      <td>1920-10-03</td>\n",
       "      <td>1920</td>\n",
       "      <td>0</td>\n",
       "      <td>0</td>\n",
       "      <td>RII</td>\n",
       "      <td>MUN</td>\n",
       "      <td>1516.108</td>\n",
       "      <td>1478.004</td>\n",
       "      <td>0.644171</td>\n",
       "      <td>45</td>\n",
       "      <td>0</td>\n",
       "      <td>1.0</td>\n",
       "    </tr>\n",
       "  </tbody>\n",
       "</table>\n",
       "</div>"
      ],
      "text/plain": [
       "        date  season  neutral  playoff team1 team2      elo1      elo2  \\\n",
       "0 1920-09-26    1920        0        0   RII   STP  1503.947  1300.000   \n",
       "1 1920-10-03    1920        0        0   AKR   WHE  1503.420  1300.000   \n",
       "2 1920-10-03    1920        0        0   RCH   ABU  1503.420  1300.000   \n",
       "3 1920-10-03    1920        0        0   DAY   COL  1493.002  1504.908   \n",
       "4 1920-10-03    1920        0        0   RII   MUN  1516.108  1478.004   \n",
       "\n",
       "   elo_prob1  score1  score2  result1  \n",
       "0   0.824651      48       0      1.0  \n",
       "1   0.824212      43       0      1.0  \n",
       "2   0.824212      10       0      1.0  \n",
       "3   0.575819      14       0      1.0  \n",
       "4   0.644171      45       0      1.0  "
      ]
     },
     "execution_count": 2,
     "metadata": {},
     "output_type": "execute_result"
    }
   ],
   "source": [
    "data = pd.read_csv('nfl_games.csv', parse_dates=[0])\n",
    "data.head()"
   ]
  },
  {
   "cell_type": "code",
   "execution_count": 3,
   "metadata": {},
   "outputs": [
    {
     "name": "stdout",
     "output_type": "stream",
     "text": [
      "<class 'pandas.core.frame.DataFrame'>\n",
      "RangeIndex: 16274 entries, 0 to 16273\n",
      "Data columns (total 12 columns):\n",
      "date         16274 non-null datetime64[ns]\n",
      "season       16274 non-null int64\n",
      "neutral      16274 non-null int64\n",
      "playoff      16274 non-null int64\n",
      "team1        16274 non-null object\n",
      "team2        16274 non-null object\n",
      "elo1         16274 non-null float64\n",
      "elo2         16274 non-null float64\n",
      "elo_prob1    16274 non-null float64\n",
      "score1       16274 non-null int64\n",
      "score2       16274 non-null int64\n",
      "result1      16274 non-null float64\n",
      "dtypes: datetime64[ns](1), float64(4), int64(5), object(2)\n",
      "memory usage: 1.5+ MB\n"
     ]
    }
   ],
   "source": [
    "data.info()"
   ]
  },
  {
   "cell_type": "markdown",
   "metadata": {},
   "source": [
    "# Establish Additional Value"
   ]
  },
  {
   "cell_type": "markdown",
   "metadata": {},
   "source": [
    "2 ways I can see modifying this data set to create visualizations and additional value are:\n",
    "\n",
    "1- Gather the average score difference per season to see if this has increased or decreased over time. By looking only at average difference per season, most outliars should be smoothed out and users will be able to see overall trends in the data.\n",
    "\n",
    "2- Look at statistics for a spefic team, either over time or for a specific season and look for improvement. By zooming in on only the statistics for a specific team, one would be able to see how that team has been/ is performing."
   ]
  },
  {
   "cell_type": "markdown",
   "metadata": {},
   "source": [
    "First, lets see if teams have gotten more or less even over time. I will do this by first creating a \"difference\" column where I store the difference in score between the winning and losing team. I want the absolute value of the difference because I only want to see if this number is growing. Next I will graph this difference over time to see if there is any pattern."
   ]
  },
  {
   "cell_type": "code",
   "execution_count": 4,
   "metadata": {
    "scrolled": false
   },
   "outputs": [
    {
     "data": {
      "text/html": [
       "<div>\n",
       "<style scoped>\n",
       "    .dataframe tbody tr th:only-of-type {\n",
       "        vertical-align: middle;\n",
       "    }\n",
       "\n",
       "    .dataframe tbody tr th {\n",
       "        vertical-align: top;\n",
       "    }\n",
       "\n",
       "    .dataframe thead th {\n",
       "        text-align: right;\n",
       "    }\n",
       "</style>\n",
       "<table border=\"1\" class=\"dataframe\">\n",
       "  <thead>\n",
       "    <tr style=\"text-align: right;\">\n",
       "      <th></th>\n",
       "      <th>date</th>\n",
       "      <th>season</th>\n",
       "      <th>neutral</th>\n",
       "      <th>playoff</th>\n",
       "      <th>team1</th>\n",
       "      <th>team2</th>\n",
       "      <th>elo1</th>\n",
       "      <th>elo2</th>\n",
       "      <th>elo_prob1</th>\n",
       "      <th>score1</th>\n",
       "      <th>score2</th>\n",
       "      <th>result1</th>\n",
       "      <th>Difference</th>\n",
       "    </tr>\n",
       "  </thead>\n",
       "  <tbody>\n",
       "    <tr>\n",
       "      <th>0</th>\n",
       "      <td>1920-09-26</td>\n",
       "      <td>1920</td>\n",
       "      <td>0</td>\n",
       "      <td>0</td>\n",
       "      <td>RII</td>\n",
       "      <td>STP</td>\n",
       "      <td>1503.947</td>\n",
       "      <td>1300.000</td>\n",
       "      <td>0.824651</td>\n",
       "      <td>48</td>\n",
       "      <td>0</td>\n",
       "      <td>1.0</td>\n",
       "      <td>48</td>\n",
       "    </tr>\n",
       "    <tr>\n",
       "      <th>1</th>\n",
       "      <td>1920-10-03</td>\n",
       "      <td>1920</td>\n",
       "      <td>0</td>\n",
       "      <td>0</td>\n",
       "      <td>AKR</td>\n",
       "      <td>WHE</td>\n",
       "      <td>1503.420</td>\n",
       "      <td>1300.000</td>\n",
       "      <td>0.824212</td>\n",
       "      <td>43</td>\n",
       "      <td>0</td>\n",
       "      <td>1.0</td>\n",
       "      <td>43</td>\n",
       "    </tr>\n",
       "    <tr>\n",
       "      <th>2</th>\n",
       "      <td>1920-10-03</td>\n",
       "      <td>1920</td>\n",
       "      <td>0</td>\n",
       "      <td>0</td>\n",
       "      <td>RCH</td>\n",
       "      <td>ABU</td>\n",
       "      <td>1503.420</td>\n",
       "      <td>1300.000</td>\n",
       "      <td>0.824212</td>\n",
       "      <td>10</td>\n",
       "      <td>0</td>\n",
       "      <td>1.0</td>\n",
       "      <td>10</td>\n",
       "    </tr>\n",
       "    <tr>\n",
       "      <th>3</th>\n",
       "      <td>1920-10-03</td>\n",
       "      <td>1920</td>\n",
       "      <td>0</td>\n",
       "      <td>0</td>\n",
       "      <td>DAY</td>\n",
       "      <td>COL</td>\n",
       "      <td>1493.002</td>\n",
       "      <td>1504.908</td>\n",
       "      <td>0.575819</td>\n",
       "      <td>14</td>\n",
       "      <td>0</td>\n",
       "      <td>1.0</td>\n",
       "      <td>14</td>\n",
       "    </tr>\n",
       "    <tr>\n",
       "      <th>4</th>\n",
       "      <td>1920-10-03</td>\n",
       "      <td>1920</td>\n",
       "      <td>0</td>\n",
       "      <td>0</td>\n",
       "      <td>RII</td>\n",
       "      <td>MUN</td>\n",
       "      <td>1516.108</td>\n",
       "      <td>1478.004</td>\n",
       "      <td>0.644171</td>\n",
       "      <td>45</td>\n",
       "      <td>0</td>\n",
       "      <td>1.0</td>\n",
       "      <td>45</td>\n",
       "    </tr>\n",
       "  </tbody>\n",
       "</table>\n",
       "</div>"
      ],
      "text/plain": [
       "        date  season  neutral  playoff team1 team2      elo1      elo2  \\\n",
       "0 1920-09-26    1920        0        0   RII   STP  1503.947  1300.000   \n",
       "1 1920-10-03    1920        0        0   AKR   WHE  1503.420  1300.000   \n",
       "2 1920-10-03    1920        0        0   RCH   ABU  1503.420  1300.000   \n",
       "3 1920-10-03    1920        0        0   DAY   COL  1493.002  1504.908   \n",
       "4 1920-10-03    1920        0        0   RII   MUN  1516.108  1478.004   \n",
       "\n",
       "   elo_prob1  score1  score2  result1  Difference  \n",
       "0   0.824651      48       0      1.0          48  \n",
       "1   0.824212      43       0      1.0          43  \n",
       "2   0.824212      10       0      1.0          10  \n",
       "3   0.575819      14       0      1.0          14  \n",
       "4   0.644171      45       0      1.0          45  "
      ]
     },
     "execution_count": 4,
     "metadata": {},
     "output_type": "execute_result"
    }
   ],
   "source": [
    "data['Difference'] = data.apply(lambda row: abs(row.score1 - \n",
    "                                  row.score2), axis = 1)\n",
    "data.head()"
   ]
  },
  {
   "cell_type": "markdown",
   "metadata": {},
   "source": [
    "I am now going to make separate data frames from the Chiefs and the Patriots home games. It appears that team1 in the data frame indicates the home team in the matchup."
   ]
  },
  {
   "cell_type": "code",
   "execution_count": 5,
   "metadata": {},
   "outputs": [
    {
     "data": {
      "text/html": [
       "<div>\n",
       "<style scoped>\n",
       "    .dataframe tbody tr th:only-of-type {\n",
       "        vertical-align: middle;\n",
       "    }\n",
       "\n",
       "    .dataframe tbody tr th {\n",
       "        vertical-align: top;\n",
       "    }\n",
       "\n",
       "    .dataframe thead th {\n",
       "        text-align: right;\n",
       "    }\n",
       "</style>\n",
       "<table border=\"1\" class=\"dataframe\">\n",
       "  <thead>\n",
       "    <tr style=\"text-align: right;\">\n",
       "      <th></th>\n",
       "      <th>date</th>\n",
       "      <th>season</th>\n",
       "      <th>neutral</th>\n",
       "      <th>playoff</th>\n",
       "      <th>team1</th>\n",
       "      <th>team2</th>\n",
       "      <th>elo1</th>\n",
       "      <th>elo2</th>\n",
       "      <th>elo_prob1</th>\n",
       "      <th>score1</th>\n",
       "      <th>score2</th>\n",
       "      <th>result1</th>\n",
       "      <th>Difference</th>\n",
       "    </tr>\n",
       "  </thead>\n",
       "  <tbody>\n",
       "    <tr>\n",
       "      <th>2903</th>\n",
       "      <td>1960-09-09</td>\n",
       "      <td>1960</td>\n",
       "      <td>0</td>\n",
       "      <td>0</td>\n",
       "      <td>NE</td>\n",
       "      <td>DEN</td>\n",
       "      <td>1300.000</td>\n",
       "      <td>1300.000</td>\n",
       "      <td>0.592466</td>\n",
       "      <td>10</td>\n",
       "      <td>13</td>\n",
       "      <td>0.0</td>\n",
       "      <td>3</td>\n",
       "    </tr>\n",
       "    <tr>\n",
       "      <th>2911</th>\n",
       "      <td>1960-09-23</td>\n",
       "      <td>1960</td>\n",
       "      <td>0</td>\n",
       "      <td>0</td>\n",
       "      <td>NE</td>\n",
       "      <td>BUF</td>\n",
       "      <td>1305.064</td>\n",
       "      <td>1253.579</td>\n",
       "      <td>0.661624</td>\n",
       "      <td>0</td>\n",
       "      <td>13</td>\n",
       "      <td>0.0</td>\n",
       "      <td>13</td>\n",
       "    </tr>\n",
       "    <tr>\n",
       "      <th>2959</th>\n",
       "      <td>1960-10-28</td>\n",
       "      <td>1960</td>\n",
       "      <td>0</td>\n",
       "      <td>0</td>\n",
       "      <td>NE</td>\n",
       "      <td>LAC</td>\n",
       "      <td>1274.033</td>\n",
       "      <td>1280.103</td>\n",
       "      <td>0.584003</td>\n",
       "      <td>16</td>\n",
       "      <td>45</td>\n",
       "      <td>0.0</td>\n",
       "      <td>29</td>\n",
       "    </tr>\n",
       "    <tr>\n",
       "      <th>2968</th>\n",
       "      <td>1960-11-04</td>\n",
       "      <td>1960</td>\n",
       "      <td>0</td>\n",
       "      <td>0</td>\n",
       "      <td>NE</td>\n",
       "      <td>OAK</td>\n",
       "      <td>1233.213</td>\n",
       "      <td>1246.477</td>\n",
       "      <td>0.573909</td>\n",
       "      <td>34</td>\n",
       "      <td>28</td>\n",
       "      <td>1.0</td>\n",
       "      <td>6</td>\n",
       "    </tr>\n",
       "    <tr>\n",
       "      <th>2978</th>\n",
       "      <td>1960-11-11</td>\n",
       "      <td>1960</td>\n",
       "      <td>0</td>\n",
       "      <td>0</td>\n",
       "      <td>NE</td>\n",
       "      <td>NYJ</td>\n",
       "      <td>1249.415</td>\n",
       "      <td>1263.521</td>\n",
       "      <td>0.572723</td>\n",
       "      <td>38</td>\n",
       "      <td>21</td>\n",
       "      <td>1.0</td>\n",
       "      <td>17</td>\n",
       "    </tr>\n",
       "  </tbody>\n",
       "</table>\n",
       "</div>"
      ],
      "text/plain": [
       "           date  season  neutral  playoff team1 team2      elo1      elo2  \\\n",
       "2903 1960-09-09    1960        0        0    NE   DEN  1300.000  1300.000   \n",
       "2911 1960-09-23    1960        0        0    NE   BUF  1305.064  1253.579   \n",
       "2959 1960-10-28    1960        0        0    NE   LAC  1274.033  1280.103   \n",
       "2968 1960-11-04    1960        0        0    NE   OAK  1233.213  1246.477   \n",
       "2978 1960-11-11    1960        0        0    NE   NYJ  1249.415  1263.521   \n",
       "\n",
       "      elo_prob1  score1  score2  result1  Difference  \n",
       "2903   0.592466      10      13      0.0           3  \n",
       "2911   0.661624       0      13      0.0          13  \n",
       "2959   0.584003      16      45      0.0          29  \n",
       "2968   0.573909      34      28      1.0           6  \n",
       "2978   0.572723      38      21      1.0          17  "
      ]
     },
     "execution_count": 5,
     "metadata": {},
     "output_type": "execute_result"
    }
   ],
   "source": [
    "patriots = data.loc[data['team1'] == 'NE']\n",
    "patriots.head()"
   ]
  },
  {
   "cell_type": "code",
   "execution_count": 6,
   "metadata": {},
   "outputs": [
    {
     "data": {
      "text/html": [
       "<div>\n",
       "<style scoped>\n",
       "    .dataframe tbody tr th:only-of-type {\n",
       "        vertical-align: middle;\n",
       "    }\n",
       "\n",
       "    .dataframe tbody tr th {\n",
       "        vertical-align: top;\n",
       "    }\n",
       "\n",
       "    .dataframe thead th {\n",
       "        text-align: right;\n",
       "    }\n",
       "</style>\n",
       "<table border=\"1\" class=\"dataframe\">\n",
       "  <thead>\n",
       "    <tr style=\"text-align: right;\">\n",
       "      <th></th>\n",
       "      <th>date</th>\n",
       "      <th>season</th>\n",
       "      <th>neutral</th>\n",
       "      <th>playoff</th>\n",
       "      <th>team1</th>\n",
       "      <th>team2</th>\n",
       "      <th>elo1</th>\n",
       "      <th>elo2</th>\n",
       "      <th>elo_prob1</th>\n",
       "      <th>score1</th>\n",
       "      <th>score2</th>\n",
       "      <th>result1</th>\n",
       "      <th>Difference</th>\n",
       "    </tr>\n",
       "  </thead>\n",
       "  <tbody>\n",
       "    <tr>\n",
       "      <th>2915</th>\n",
       "      <td>1960-09-25</td>\n",
       "      <td>1960</td>\n",
       "      <td>0</td>\n",
       "      <td>0</td>\n",
       "      <td>KC</td>\n",
       "      <td>LAC</td>\n",
       "      <td>1327.601</td>\n",
       "      <td>1288.522</td>\n",
       "      <td>0.645457</td>\n",
       "      <td>17</td>\n",
       "      <td>0</td>\n",
       "      <td>1.0</td>\n",
       "      <td>17</td>\n",
       "    </tr>\n",
       "    <tr>\n",
       "      <th>2927</th>\n",
       "      <td>1960-10-02</td>\n",
       "      <td>1960</td>\n",
       "      <td>0</td>\n",
       "      <td>0</td>\n",
       "      <td>KC</td>\n",
       "      <td>NYJ</td>\n",
       "      <td>1347.170</td>\n",
       "      <td>1317.970</td>\n",
       "      <td>0.632338</td>\n",
       "      <td>35</td>\n",
       "      <td>37</td>\n",
       "      <td>0.0</td>\n",
       "      <td>2</td>\n",
       "    </tr>\n",
       "    <tr>\n",
       "      <th>2931</th>\n",
       "      <td>1960-10-09</td>\n",
       "      <td>1960</td>\n",
       "      <td>0</td>\n",
       "      <td>0</td>\n",
       "      <td>KC</td>\n",
       "      <td>OAK</td>\n",
       "      <td>1332.655</td>\n",
       "      <td>1227.786</td>\n",
       "      <td>0.726680</td>\n",
       "      <td>19</td>\n",
       "      <td>20</td>\n",
       "      <td>0.0</td>\n",
       "      <td>1</td>\n",
       "    </tr>\n",
       "    <tr>\n",
       "      <th>2982</th>\n",
       "      <td>1960-11-13</td>\n",
       "      <td>1960</td>\n",
       "      <td>0</td>\n",
       "      <td>0</td>\n",
       "      <td>KC</td>\n",
       "      <td>DEN</td>\n",
       "      <td>1353.986</td>\n",
       "      <td>1283.364</td>\n",
       "      <td>0.685832</td>\n",
       "      <td>34</td>\n",
       "      <td>7</td>\n",
       "      <td>1.0</td>\n",
       "      <td>27</td>\n",
       "    </tr>\n",
       "    <tr>\n",
       "      <th>3014</th>\n",
       "      <td>1960-12-04</td>\n",
       "      <td>1960</td>\n",
       "      <td>0</td>\n",
       "      <td>0</td>\n",
       "      <td>KC</td>\n",
       "      <td>TEN</td>\n",
       "      <td>1314.500</td>\n",
       "      <td>1440.773</td>\n",
       "      <td>0.412724</td>\n",
       "      <td>24</td>\n",
       "      <td>0</td>\n",
       "      <td>1.0</td>\n",
       "      <td>24</td>\n",
       "    </tr>\n",
       "  </tbody>\n",
       "</table>\n",
       "</div>"
      ],
      "text/plain": [
       "           date  season  neutral  playoff team1 team2      elo1      elo2  \\\n",
       "2915 1960-09-25    1960        0        0    KC   LAC  1327.601  1288.522   \n",
       "2927 1960-10-02    1960        0        0    KC   NYJ  1347.170  1317.970   \n",
       "2931 1960-10-09    1960        0        0    KC   OAK  1332.655  1227.786   \n",
       "2982 1960-11-13    1960        0        0    KC   DEN  1353.986  1283.364   \n",
       "3014 1960-12-04    1960        0        0    KC   TEN  1314.500  1440.773   \n",
       "\n",
       "      elo_prob1  score1  score2  result1  Difference  \n",
       "2915   0.645457      17       0      1.0          17  \n",
       "2927   0.632338      35      37      0.0           2  \n",
       "2931   0.726680      19      20      0.0           1  \n",
       "2982   0.685832      34       7      1.0          27  \n",
       "3014   0.412724      24       0      1.0          24  "
      ]
     },
     "execution_count": 6,
     "metadata": {},
     "output_type": "execute_result"
    }
   ],
   "source": [
    "chiefs = data.loc[data['team1'] == 'KC']\n",
    "chiefs.head()"
   ]
  },
  {
   "cell_type": "markdown",
   "metadata": {},
   "source": [
    "# Visualizations"
   ]
  },
  {
   "cell_type": "markdown",
   "metadata": {},
   "source": [
    "First I will plot the average differences per game throughout NFL history, with a line of best fit so a user can see any basic trend in the data."
   ]
  },
  {
   "cell_type": "code",
   "execution_count": 7,
   "metadata": {},
   "outputs": [
    {
     "data": {
      "text/plain": [
       "[<matplotlib.lines.Line2D at 0x19325886860>]"
      ]
     },
     "execution_count": 7,
     "metadata": {},
     "output_type": "execute_result"
    },
    {
     "data": {
      "image/png": "[encoded data removed]",
      "text/plain": [
       "<Figure size 1440x504 with 1 Axes>"
      ]
     },
     "metadata": {
      "needs_background": "light"
     },
     "output_type": "display_data"
    }
   ],
   "source": [
    "from pandas.plotting import register_matplotlib_converters\n",
    "register_matplotlib_converters()\n",
    "\n",
    "#Group by season to find average difference per season\n",
    "data = data.sort_values('date', ascending=True)\n",
    "avg_season = data[['season', 'Difference']].groupby(['season']).mean()\n",
    "\n",
    "#Plot difference vs season\n",
    "plt.figure(figsize=(20,7))\n",
    "plt.ylabel('Difference in Score')\n",
    "plt.xlabel('Season')\n",
    "plt.title('Average Score Difference by Season')\n",
    "plt.plot(avg_season.index, avg_season['Difference'], '.')\n",
    "\n",
    "#Plot line of best fit to see trend\n",
    "x = avg_season.index\n",
    "y = avg_season['Difference']\n",
    "plt.plot(np.unique(x), np.poly1d(np.polyfit(x, y, 1))(np.unique(x)))\n",
    "\n"
   ]
  },
  {
   "cell_type": "markdown",
   "metadata": {},
   "source": [
    "From this plot we can see that there is a relatively clear trend, teams are becoming more even in the NFL. This could be for a number of reasons, including better scouting/ access to player statistics or the NFL attempting to make their teams more even to increase viewership, close games are always more exciting to watch! This displays story telling because viewers can see how when the NFL was created, many games were lopsided by amazing teams that crushed all of their opponents. As technology and scouting became better, the worst teams got to draft the accurately-chosen best players in each college class, which helped to even out the teams."
   ]
  },
  {
   "cell_type": "markdown",
   "metadata": {},
   "source": [
    "I will now plot the win % of the Patriots since their creation."
   ]
  },
  {
   "cell_type": "code",
   "execution_count": 8,
   "metadata": {
    "scrolled": true
   },
   "outputs": [
    {
     "data": {
      "text/html": [
       "<div>\n",
       "<style scoped>\n",
       "    .dataframe tbody tr th:only-of-type {\n",
       "        vertical-align: middle;\n",
       "    }\n",
       "\n",
       "    .dataframe tbody tr th {\n",
       "        vertical-align: top;\n",
       "    }\n",
       "\n",
       "    .dataframe thead th {\n",
       "        text-align: right;\n",
       "    }\n",
       "</style>\n",
       "<table border=\"1\" class=\"dataframe\">\n",
       "  <thead>\n",
       "    <tr style=\"text-align: right;\">\n",
       "      <th></th>\n",
       "      <th>result1</th>\n",
       "    </tr>\n",
       "    <tr>\n",
       "      <th>season</th>\n",
       "      <th></th>\n",
       "    </tr>\n",
       "  </thead>\n",
       "  <tbody>\n",
       "    <tr>\n",
       "      <th>1960</th>\n",
       "      <td>0.428571</td>\n",
       "    </tr>\n",
       "    <tr>\n",
       "      <th>1961</th>\n",
       "      <td>0.642857</td>\n",
       "    </tr>\n",
       "    <tr>\n",
       "      <th>1962</th>\n",
       "      <td>0.857143</td>\n",
       "    </tr>\n",
       "    <tr>\n",
       "      <th>1963</th>\n",
       "      <td>0.785714</td>\n",
       "    </tr>\n",
       "    <tr>\n",
       "      <th>1964</th>\n",
       "      <td>0.642857</td>\n",
       "    </tr>\n",
       "  </tbody>\n",
       "</table>\n",
       "</div>"
      ],
      "text/plain": [
       "         result1\n",
       "season          \n",
       "1960    0.428571\n",
       "1961    0.642857\n",
       "1962    0.857143\n",
       "1963    0.785714\n",
       "1964    0.642857"
      ]
     },
     "execution_count": 8,
     "metadata": {},
     "output_type": "execute_result"
    }
   ],
   "source": [
    "patriots_win_ratio = patriots[['season', 'result1']].groupby(['season']).mean()\n",
    "chiefs_win_ratio = chiefs[['season', 'result1']].groupby(['season']).mean()\n",
    "patriots_win_ratio.head()"
   ]
  },
  {
   "cell_type": "code",
   "execution_count": 9,
   "metadata": {},
   "outputs": [
    {
     "data": {
      "text/html": [
       "<div>\n",
       "<style scoped>\n",
       "    .dataframe tbody tr th:only-of-type {\n",
       "        vertical-align: middle;\n",
       "    }\n",
       "\n",
       "    .dataframe tbody tr th {\n",
       "        vertical-align: top;\n",
       "    }\n",
       "\n",
       "    .dataframe thead th {\n",
       "        text-align: right;\n",
       "    }\n",
       "</style>\n",
       "<table border=\"1\" class=\"dataframe\">\n",
       "  <thead>\n",
       "    <tr style=\"text-align: right;\">\n",
       "      <th></th>\n",
       "      <th>result1</th>\n",
       "    </tr>\n",
       "    <tr>\n",
       "      <th>season</th>\n",
       "      <th></th>\n",
       "    </tr>\n",
       "  </thead>\n",
       "  <tbody>\n",
       "    <tr>\n",
       "      <th>1960</th>\n",
       "      <td>0.714286</td>\n",
       "    </tr>\n",
       "    <tr>\n",
       "      <th>1961</th>\n",
       "      <td>0.571429</td>\n",
       "    </tr>\n",
       "    <tr>\n",
       "      <th>1962</th>\n",
       "      <td>0.857143</td>\n",
       "    </tr>\n",
       "    <tr>\n",
       "      <th>1963</th>\n",
       "      <td>0.571429</td>\n",
       "    </tr>\n",
       "    <tr>\n",
       "      <th>1964</th>\n",
       "      <td>0.571429</td>\n",
       "    </tr>\n",
       "  </tbody>\n",
       "</table>\n",
       "</div>"
      ],
      "text/plain": [
       "         result1\n",
       "season          \n",
       "1960    0.714286\n",
       "1961    0.571429\n",
       "1962    0.857143\n",
       "1963    0.571429\n",
       "1964    0.571429"
      ]
     },
     "execution_count": 9,
     "metadata": {},
     "output_type": "execute_result"
    }
   ],
   "source": [
    "chiefs_win_ratio.head()"
   ]
  },
  {
   "cell_type": "code",
   "execution_count": 10,
   "metadata": {},
   "outputs": [
    {
     "data": {
      "text/html": [
       "<div>\n",
       "<style scoped>\n",
       "    .dataframe tbody tr th:only-of-type {\n",
       "        vertical-align: middle;\n",
       "    }\n",
       "\n",
       "    .dataframe tbody tr th {\n",
       "        vertical-align: top;\n",
       "    }\n",
       "\n",
       "    .dataframe thead th {\n",
       "        text-align: right;\n",
       "    }\n",
       "</style>\n",
       "<table border=\"1\" class=\"dataframe\">\n",
       "  <thead>\n",
       "    <tr style=\"text-align: right;\">\n",
       "      <th></th>\n",
       "      <th>Season</th>\n",
       "      <th>win ratio</th>\n",
       "    </tr>\n",
       "    <tr>\n",
       "      <th>season</th>\n",
       "      <th></th>\n",
       "      <th></th>\n",
       "    </tr>\n",
       "  </thead>\n",
       "  <tbody>\n",
       "    <tr>\n",
       "      <th>1960</th>\n",
       "      <td>60</td>\n",
       "      <td>0.428571</td>\n",
       "    </tr>\n",
       "    <tr>\n",
       "      <th>1961</th>\n",
       "      <td>61</td>\n",
       "      <td>0.642857</td>\n",
       "    </tr>\n",
       "    <tr>\n",
       "      <th>1962</th>\n",
       "      <td>62</td>\n",
       "      <td>0.857143</td>\n",
       "    </tr>\n",
       "    <tr>\n",
       "      <th>1963</th>\n",
       "      <td>63</td>\n",
       "      <td>0.785714</td>\n",
       "    </tr>\n",
       "    <tr>\n",
       "      <th>1964</th>\n",
       "      <td>64</td>\n",
       "      <td>0.642857</td>\n",
       "    </tr>\n",
       "  </tbody>\n",
       "</table>\n",
       "</div>"
      ],
      "text/plain": [
       "       Season  win ratio\n",
       "season                  \n",
       "1960       60   0.428571\n",
       "1961       61   0.642857\n",
       "1962       62   0.857143\n",
       "1963       63   0.785714\n",
       "1964       64   0.642857"
      ]
     },
     "execution_count": 10,
     "metadata": {},
     "output_type": "execute_result"
    }
   ],
   "source": [
    "patriots_win_ratio.insert(0, 'Season', list(map(lambda x: format(x%100, \"02d\"), range(60, ((60 + len(patriots_win_ratio)%100))))))\n",
    "patriots_win_ratio = patriots_win_ratio.rename(columns={\"result1\": \"win ratio\"})\n",
    "patriots_win_ratio.head()"
   ]
  },
  {
   "cell_type": "code",
   "execution_count": 11,
   "metadata": {},
   "outputs": [
    {
     "data": {
      "image/png": "[encoded data removed]",
      "text/plain": [
       "<Figure size 1296x360 with 1 Axes>"
      ]
     },
     "metadata": {
      "needs_background": "light"
     },
     "output_type": "display_data"
    }
   ],
   "source": [
    "ax = patriots_win_ratio.plot.bar(x='Season', y='win ratio', rot=0, figsize=(18,5), title = 'Patriots win ratio by Season')\n",
    "plt.ylabel('Patriots Win Ratio');"
   ]
  },
  {
   "cell_type": "markdown",
   "metadata": {},
   "source": [
    "By zooming in on only 1 team, the Patriots, one can see that they appear to have an overall increase in win ratio since 1990. While their first 10 years varied widely, almost every year since 1990 has had a win ratio >50%."
   ]
  },
  {
   "cell_type": "markdown",
   "metadata": {},
   "source": [
    "I will make a similar chart depicting the Chiefs."
   ]
  },
  {
   "cell_type": "code",
   "execution_count": 12,
   "metadata": {},
   "outputs": [
    {
     "data": {
      "image/png": "[encoded data removed]",
      "text/plain": [
       "<Figure size 1296x360 with 1 Axes>"
      ]
     },
     "metadata": {
      "needs_background": "light"
     },
     "output_type": "display_data"
    }
   ],
   "source": [
    "chiefs_win_ratio.insert(0, 'Season', list(map(lambda x: format(x%100, \"02d\"), range(60, ((60 + len(chiefs_win_ratio)%100))))))\n",
    "chiefs_win_ratio = chiefs_win_ratio.rename(columns={\"result1\": \"win ratio\"})\n",
    "chart = chiefs_win_ratio.plot.bar(x='Season', y='win ratio', rot=0, figsize=(18,5), title = 'Chiefs win ratio by Season', color=(1, 0.0, 0.0, 1))\n",
    "plt.ylabel('Chiefs Win Ratio');"
   ]
  },
  {
   "cell_type": "markdown",
   "metadata": {},
   "source": [
    "Showing this same plot for the Chiefs gives us different information. One can see that the Chiefs struggled from 2007-2012. In 2013 the Chiefs signed Alex Smith and immediately their win percentage jumped to over 50%. This chart displays story telling because it is clear when the Chiefs signed their new Quarterback. "
   ]
  },
  {
   "cell_type": "markdown",
   "metadata": {},
   "source": [
    "I will now create a grouped boxplot to show the difference in average score over the past 5 seasons between the Chiefs and the Patriots."
   ]
  },
  {
   "cell_type": "code",
   "execution_count": 13,
   "metadata": {
    "scrolled": true
   },
   "outputs": [
    {
     "data": {
      "text/html": [
       "<div>\n",
       "<style scoped>\n",
       "    .dataframe tbody tr th:only-of-type {\n",
       "        vertical-align: middle;\n",
       "    }\n",
       "\n",
       "    .dataframe tbody tr th {\n",
       "        vertical-align: top;\n",
       "    }\n",
       "\n",
       "    .dataframe thead th {\n",
       "        text-align: right;\n",
       "    }\n",
       "</style>\n",
       "<table border=\"1\" class=\"dataframe\">\n",
       "  <thead>\n",
       "    <tr style=\"text-align: right;\">\n",
       "      <th></th>\n",
       "      <th>date</th>\n",
       "      <th>season</th>\n",
       "      <th>neutral</th>\n",
       "      <th>playoff</th>\n",
       "      <th>team1</th>\n",
       "      <th>team2</th>\n",
       "      <th>elo1</th>\n",
       "      <th>elo2</th>\n",
       "      <th>elo_prob1</th>\n",
       "      <th>Score</th>\n",
       "      <th>score2</th>\n",
       "      <th>result1</th>\n",
       "      <th>Difference</th>\n",
       "    </tr>\n",
       "  </thead>\n",
       "  <tbody>\n",
       "    <tr>\n",
       "      <th>14688</th>\n",
       "      <td>2013-09-12</td>\n",
       "      <td>2013</td>\n",
       "      <td>0</td>\n",
       "      <td>0</td>\n",
       "      <td>NE</td>\n",
       "      <td>NYJ</td>\n",
       "      <td>1641.780</td>\n",
       "      <td>1438.095</td>\n",
       "      <td>0.824433</td>\n",
       "      <td>13</td>\n",
       "      <td>10</td>\n",
       "      <td>1.0</td>\n",
       "      <td>3</td>\n",
       "    </tr>\n",
       "    <tr>\n",
       "      <th>14701</th>\n",
       "      <td>2013-09-15</td>\n",
       "      <td>2013</td>\n",
       "      <td>0</td>\n",
       "      <td>0</td>\n",
       "      <td>KC</td>\n",
       "      <td>DAL</td>\n",
       "      <td>1393.945</td>\n",
       "      <td>1506.335</td>\n",
       "      <td>0.432220</td>\n",
       "      <td>17</td>\n",
       "      <td>16</td>\n",
       "      <td>1.0</td>\n",
       "      <td>1</td>\n",
       "    </tr>\n",
       "    <tr>\n",
       "      <th>14716</th>\n",
       "      <td>2013-09-22</td>\n",
       "      <td>2013</td>\n",
       "      <td>0</td>\n",
       "      <td>0</td>\n",
       "      <td>NE</td>\n",
       "      <td>TB</td>\n",
       "      <td>1646.118</td>\n",
       "      <td>1453.243</td>\n",
       "      <td>0.815243</td>\n",
       "      <td>23</td>\n",
       "      <td>3</td>\n",
       "      <td>1.0</td>\n",
       "      <td>20</td>\n",
       "    </tr>\n",
       "    <tr>\n",
       "      <th>14724</th>\n",
       "      <td>2013-09-29</td>\n",
       "      <td>2013</td>\n",
       "      <td>0</td>\n",
       "      <td>0</td>\n",
       "      <td>KC</td>\n",
       "      <td>NYG</td>\n",
       "      <td>1432.527</td>\n",
       "      <td>1489.450</td>\n",
       "      <td>0.511622</td>\n",
       "      <td>31</td>\n",
       "      <td>7</td>\n",
       "      <td>1.0</td>\n",
       "      <td>24</td>\n",
       "    </tr>\n",
       "    <tr>\n",
       "      <th>14761</th>\n",
       "      <td>2013-10-13</td>\n",
       "      <td>2013</td>\n",
       "      <td>0</td>\n",
       "      <td>0</td>\n",
       "      <td>KC</td>\n",
       "      <td>OAK</td>\n",
       "      <td>1495.679</td>\n",
       "      <td>1403.707</td>\n",
       "      <td>0.711689</td>\n",
       "      <td>24</td>\n",
       "      <td>7</td>\n",
       "      <td>1.0</td>\n",
       "      <td>17</td>\n",
       "    </tr>\n",
       "  </tbody>\n",
       "</table>\n",
       "</div>"
      ],
      "text/plain": [
       "            date  season  neutral  playoff team1 team2      elo1      elo2  \\\n",
       "14688 2013-09-12    2013        0        0    NE   NYJ  1641.780  1438.095   \n",
       "14701 2013-09-15    2013        0        0    KC   DAL  1393.945  1506.335   \n",
       "14716 2013-09-22    2013        0        0    NE    TB  1646.118  1453.243   \n",
       "14724 2013-09-29    2013        0        0    KC   NYG  1432.527  1489.450   \n",
       "14761 2013-10-13    2013        0        0    KC   OAK  1495.679  1403.707   \n",
       "\n",
       "       elo_prob1  Score  score2  result1  Difference  \n",
       "14688   0.824433     13      10      1.0           3  \n",
       "14701   0.432220     17      16      1.0           1  \n",
       "14716   0.815243     23       3      1.0          20  \n",
       "14724   0.511622     31       7      1.0          24  \n",
       "14761   0.711689     24       7      1.0          17  "
      ]
     },
     "execution_count": 13,
     "metadata": {},
     "output_type": "execute_result"
    }
   ],
   "source": [
    "#Chiefs & Patriots Season data\n",
    "PP = data.loc[((data['team1'] == 'NE') | (data['team1'] == 'KC'))  & (data['season'] >= 2013)]\n",
    "PP = PP.rename(columns={\"score1\": \"Score\"})\n",
    "PP.head()"
   ]
  },
  {
   "cell_type": "code",
   "execution_count": 15,
   "metadata": {},
   "outputs": [
    {
     "data": {
      "image/png": "[encoded data removed]",
      "text/plain": [
       "<Figure size 432x288 with 1 Axes>"
      ]
     },
     "metadata": {
      "needs_background": "light"
     },
     "output_type": "display_data"
    }
   ],
   "source": [
    "sns.boxplot(y='Score', x='season', \n",
    "                 data=PP, \n",
    "                 palette=\"colorblind\",\n",
    "                 hue='team1',\n",
    "           ).set_title('Patriots vs Chiefs scores over the past 5 Seasons');"
   ]
  },
  {
   "cell_type": "markdown",
   "metadata": {},
   "source": [
    "This Seaborn box plot shows the score ranges for the Chiefs and Patriots over the past 5 seasons. As you can see, the patriots have an average score higher than the Chiefs in all 5 seasons."
   ]
  },
  {
   "cell_type": "markdown",
   "metadata": {},
   "source": [
    "# Conclusion"
   ]
  },
  {
   "cell_type": "markdown",
   "metadata": {},
   "source": [
    "Visualizations help to show data in new ways so that specific peices of information can be gained from them.\n",
    "\n",
    "First, I showed how games in the NFL are getting closer every season as the worst teams have access to better technology and recruiting tools to ensure that they get the best new players in the draft.\n",
    "\n",
    "Second, I showed how bargraphs can be used to see specific events, and how those events made an impact on some value. The Chiefs were struggling to win games before the hired Alex Smith as their new quarterback. Without knowing what season he was drafted, one can simply look at the bar chart and know exactly when this was (2013).\n",
    "\n",
    "Third and finally, I narrowed my data down to just 2 teams, the Chiefs and the Patriots, so that they could be compared side by side over the past 5 seasons. By created box plots of all the scores each team had over the past 5 seasons, one can see that the Patriots have averaged higher scores per game in all 5 of the last 5 seasons. "
   ]
  }
 ],
 "metadata": {
  "kernelspec": {
   "display_name": "Python 3",
   "language": "python",
   "name": "python3"
  },
  "language_info": {
   "codemirror_mode": {
    "name": "ipython",
    "version": 3
   },
   "file_extension": ".py",
   "mimetype": "text/x-python",
   "name": "python",
   "nbconvert_exporter": "python",
   "pygments_lexer": "ipython3",
   "version": "3.7.3"
  }
 },
 "nbformat": 4,
 "nbformat_minor": 2
}
